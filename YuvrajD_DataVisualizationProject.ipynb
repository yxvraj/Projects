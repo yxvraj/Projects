{
 "cells": [
  {
   "cell_type": "code",
   "execution_count": null,
   "metadata": {},
   "outputs": [],
   "source": [
    "#Yuvraj Deshpande MIS 15 Section 01 Data Visualization Project \n",
    "#Each question will be numbered in the order that it is listed on Canvas\n",
    "\n",
    "import pandas as pd\n",
    "import numpy as np\n",
    "import matplotlib as mpl\n",
    "import matplotlib.pyplot as plt\n",
    "\n",
    "#1: Downloaded\n",
    "\n",
    "#2:\n",
    "df_project = pd.read_excel(io = \"/Users/yuvraj/Downloads/Generic University Data Updated.xlsx\" , sheet_name = 'Student Data')\n",
    "\n",
    "#3:\n",
    "print(df_project.shape)\n",
    "\n",
    "#4:\n",
    "print(df_project.head(5))\n",
    "print(df_project.tail(5))\n",
    "\n",
    "#5:\n",
    "df_project.drop(['Aid Type','ID','Pell Grant Amount','Postal Code','City'], axis=1, inplace=True)\n",
    "\n",
    "df_project.columns = list(map(str, df_project.columns))\n",
    "\n",
    "#6:\n",
    "print(df_project.head(5))\n",
    "\n",
    "#7:\n",
    "filter1=df_project.loc[df_project[\"State\"]==\"California\"]\n",
    "print(filter1)\n",
    "#7 Part 2:\n",
    "filter2=df_project.loc[df_project[\"Gender\"]==\"Female\"]\n",
    "print(filter2)\n",
    "\n",
    "#8:\n",
    "df_project = pd.read_excel(io = \"/Users/yuvraj/Downloads/Generic University Data Updated.xlsx\" , sheet_name = 'Schools')\n",
    "\n",
    "#9:\n",
    "df_project['Total'] = df_project.sum(axis=1)\n",
    "\n",
    "#10:\n",
    "year = list(map(str, range(2008, 2019)))\n",
    "\n",
    "#11:\n",
    "df_project.set_index('School' , inplace=True)\n",
    "#print(df_project.loc[\"Business and Management\"])\n",
    "BSchool = df_project.loc['Business and Management' , year]\n",
    "BSchool.index = BSchool.index.map(int)\n",
    "BSchool.plot(kind='line')\n",
    "\n",
    "#12:\n",
    "plt.title('Scholarship Amount from School of Business')\n",
    "plt.ylabel('Scholarship Amount')\n",
    "plt.xlabel('Years')\n",
    "plt.show\n",
    "\n",
    "#13:\n",
    "categories = list(map(str, format('Health Sciences' + 'Social Sciences' + 'Arts and Humanities' + 'Business and Management' + 'Engineering')))\n",
    "df_project.set_index('Health Sciences' , inplace=True)\n",
    "Allschool = df_project.loc['School' , categories]\n",
    "Allschool.index = Allschool.index.map(int)\n",
    "Allschool.plot(kind='line')\n",
    "plt.title('Scholarship Amount from all Schools')\n",
    "plt.ylabel('Scholarship Amount')\n",
    "plt.xlabel('School')\n"
   ]
  }
 ],
 "metadata": {
  "kernelspec": {
   "display_name": "Python 3.10.6 64-bit",
   "language": "python",
   "name": "python3"
  },
  "language_info": {
   "codemirror_mode": {
    "name": "ipython",
    "version": 3
   },
   "file_extension": ".py",
   "mimetype": "text/x-python",
   "name": "python",
   "nbconvert_exporter": "python",
   "pygments_lexer": "ipython3",
   "version": "3.10.6"
  },
  "orig_nbformat": 4,
  "vscode": {
   "interpreter": {
    "hash": "aee8b7b246df8f9039afb4144a1f6fd8d2ca17a180786b69acc140d282b71a49"
   }
  }
 },
 "nbformat": 4,
 "nbformat_minor": 2
}
